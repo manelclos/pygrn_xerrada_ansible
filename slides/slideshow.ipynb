{
 "cells": [
  {
   "cell_type": "markdown",
   "metadata": {
    "slideshow": {
     "slide_type": "slide"
    }
   },
   "source": [
    "# Xerrada Ansible - Python Girona\n",
    "\n",
    "----\n",
    "\n",
    "Jaume Flórez Valenzuela\n",
    "(amb la colaboració de Manel Clos)"
   ]
  },
  {
   "cell_type": "markdown",
   "metadata": {
    "slideshow": {
     "slide_type": "slide"
    }
   },
   "source": [
    "# Què és Ansible\n",
    "\n",
    "- Ansible és una eina que ens permet instalar i actualitzar paquets remotament.\n",
    "- Ansible és una aplicació server-side, és a dir, que no l'hem d'instalar a tots els clients.\n",
    "- Ansible és un paquet de python, per utilitzar-lo únicament necessitem fer `pip install ansible`"
   ]
  },
  {
   "cell_type": "markdown",
   "metadata": {
    "slideshow": {
     "slide_type": "slide"
    }
   },
   "source": [
    "# Idempotència\n",
    "\n",
    "Una vegada instalat tot el playbook, s'hauria de poder executar de nou sense realitzar cap canvi.\n",
    "Això ens permet actualitzacions/instalacions massives amb diferents entorns.\n",
    "\n",
    "Es basa amb el terme matemàtic on identifiquem que una operació és indempotent quan\n",
    "en aplicarla a un terme, el resultat és el mateix que el terme.\n",
    "\n",
    ">“_En matemática y lógica, la idempotencia es la propiedad para realizar una acción determinada varias veces y aun así conseguir el mismo resultado que se obtendría si se realizase una sola vez_”"
   ]
  },
  {
   "cell_type": "markdown",
   "metadata": {
    "slideshow": {
     "slide_type": "slide"
    }
   },
   "source": [
    "# Tipus de Fitxers\n",
    "\n",
    "- **Inventaris**: Contenen informació sobre els diferents hosts on aplicar les tasques.\n",
    "- **Variables**: Fitxers on podem definir un seguit de variables per utilitzar en les tasques.\n",
    "- **Playbook**: Fitxer on declarem les diferents tasques a realitzar."
   ]
  },
  {
   "cell_type": "markdown",
   "metadata": {
    "slideshow": {
     "slide_type": "slide"
    }
   },
   "source": [
    "# Estructura recomanada (I)\n",
    "```\n",
    "production                # inventory file for production servers\n",
    "staging                   # inventory file for staging environment\n",
    "\n",
    "group_vars/\n",
    "   group1                 # here we assign variables to particular groups\n",
    "   group2                 # \"\"\n",
    "host_vars/\n",
    "   hostname1              # if systems need specific variables, put them here\n",
    "   hostname2              # \"\"\n",
    "\n",
    "library/                  # if any custom modules, put them here (optional)\n",
    "module_utils/             # if any custom module_utils to support modules, put them here (optional)\n",
    "filter_plugins/           # if any custom filter plugins, put them here (optional)\n",
    "\n",
    "site.yml                  # master playbook\n",
    "webservers.yml            # playbook for webserver tier\n",
    "dbservers.yml             # playbook for dbserver tier\n",
    "\n",
    "```"
   ]
  },
  {
   "cell_type": "markdown",
   "metadata": {
    "slideshow": {
     "slide_type": "slide"
    }
   },
   "source": [
    "# Estructura recomanada (II)\n",
    "\n",
    "```\n",
    "roles/\n",
    "    common/               # this hierarchy represents a \"role\"\n",
    "        tasks/            #\n",
    "            main.yml      #  <-- tasks file can include smaller files if warranted\n",
    "        handlers/         #\n",
    "            main.yml      #  <-- handlers file\n",
    "        templates/        #  <-- files for use with the template resource\n",
    "            ntp.conf.j2   #  <------- templates end in .j2\n",
    "        files/            #\n",
    "            bar.txt       #  <-- files for use with the copy resource\n",
    "            foo.sh        #  <-- script files for use with the script resource\n",
    "        vars/             #\n",
    "            main.yml      #  <-- variables associated with this role\n",
    "        defaults/         #\n",
    "            main.yml      #  <-- default lower priority variables for this role\n",
    "        meta/             #\n",
    "            main.yml      #  <-- role dependencies\n",
    "        library/          # roles can also include custom modules\n",
    "        module_utils/     # roles can also include custom module_utils\n",
    "        lookup_plugins/   # or other types of plugins, like lookup in this case\n",
    "```"
   ]
  },
  {
   "cell_type": "markdown",
   "metadata": {
    "slideshow": {
     "slide_type": "slide"
    }
   },
   "source": [
    "# Estructura dels inventaris (I)\n",
    "\n",
    "\n",
    "## Que hi definim?\n",
    "\n",
    "- **Hosts**: Utilitzant el _hostname_ o la seva _direcció IP_\n",
    "- **Grups**: Agrupen hosts\n",
    "- **Variables**: tant per un host o per un grup\n"
   ]
  },
  {
   "cell_type": "markdown",
   "metadata": {
    "slideshow": {
     "slide_type": "slide"
    }
   },
   "source": [
    "# Estructura dels inventaris (II)\n",
    "\n",
    "## Per a què serveixen els grups?\n",
    "\n",
    "Els Grups ens permeten:\n",
    "\n",
    "- Definir tasques (playbooks) específics per grups\n",
    "- Definir variables específiques per grups\n",
    "- Agrupar hosts segons \"responsabilitats\" o tipologia\n",
    "\n",
    "Un Host sempre pertany com a mínim al grup \"all\".\n",
    "\n",
    "Si un Host no té grup (a part del \"all\") s'afegeix al grup \"ungrouped\"."
   ]
  },
  {
   "cell_type": "markdown",
   "metadata": {
    "slideshow": {
     "slide_type": "slide"
    }
   },
   "source": [
    "# Estructura dels inventaris (III)\n",
    "\n",
    "##  Format clàssic (definició)\n",
    "\n",
    "1. A no ser que la línia estigui enclausada amb ‘`[ ]`’, es tractarà com a host.\n",
    "2. Si contenen únicament text entre '`[ ]`', representen un grup i tot el que segueix fins trobar un altre '`[ ]`' seran hosts d'aquest grup.\n",
    "3. Si apart del text, conté el caràcter '`:`', representen atributs d'un grup, que seràn:\n",
    "  - VARS:     Variables del grup, definides amb el format \"`<variable>: <valor>`\"\n",
    "  - CHILDREN: Defineix quins grups són \"fills\" del grup actual\n",
    "4. Es poden vincular variables a un host amb el format \"`<variable>=<valor>`\" separant les diferents variables amb espais.\n",
    "  "
   ]
  },
  {
   "cell_type": "markdown",
   "metadata": {
    "slideshow": {
     "slide_type": "slide"
    }
   },
   "source": [
    "# Estructura dels inventaris (III)\n",
    "\n",
    "##  Format clàssic (exemple)\n",
    "\n",
    "```\n",
    "[web]\n",
    "servidor_web  192.168.1.100\n",
    "[documentacio]\n",
    "docs_ansible  192.168.1.101  ansible_ssh_user=ansible src=/home/ansible/src\n",
    "[web:children]\n",
    "documentacio\n",
    "[web:vars]\n",
    "ansible_ssh_user: webmaster\n",
    "```"
   ]
  },
  {
   "cell_type": "markdown",
   "metadata": {
    "slideshow": {
     "slide_type": "slide"
    }
   },
   "source": [
    "# Estructura dels inventaris (IIII)\n",
    "\n",
    "##  Format YAML (definició)\n",
    "\n",
    "Utilitzarem el format d'arbre característic de YAML\n",
    "\n",
    "```yaml\n",
    "group:\n",
    "    hosts:\n",
    "        <host>:\n",
    "            <nom_variable>: <valor_variable>\n",
    "    children:\n",
    "        group:\n",
    "            ...\n",
    "    vars:\n",
    "        <nom_variable>: <valor_variable>\n",
    "```\n",
    "\n"
   ]
  },
  {
   "cell_type": "markdown",
   "metadata": {
    "slideshow": {
     "slide_type": "slide"
    }
   },
   "source": [
    "# Estructura dels inventaris (IIII)\n",
    "\n",
    "##  Format YAML (exemple)\n",
    "\n",
    "```yaml\n",
    "web:\n",
    "    hosts:\n",
    "        servidor_web: 192.168.1.100\n",
    "    children:\n",
    "        documentacio:\n",
    "            hosts:\n",
    "                docs_ansible: 192.168.1.101\n",
    "                    ansible_ssh_user: ansible\n",
    "                    src: /home/ansible/src\n",
    "    vars:\n",
    "        ansible_ssh_user: webmaster\n",
    "```"
   ]
  },
  {
   "cell_type": "code",
   "execution_count": null,
   "metadata": {},
   "outputs": [],
   "source": []
  }
 ],
 "metadata": {
  "celltoolbar": "Slideshow",
  "kernelspec": {
   "display_name": "Python 2",
   "language": "python",
   "name": "python2"
  },
  "language_info": {
   "codemirror_mode": {
    "name": "ipython",
    "version": 2
   },
   "file_extension": ".py",
   "mimetype": "text/x-python",
   "name": "python",
   "nbconvert_exporter": "python",
   "pygments_lexer": "ipython2",
   "version": "2.7.15rc1"
  }
 },
 "nbformat": 4,
 "nbformat_minor": 2
}
